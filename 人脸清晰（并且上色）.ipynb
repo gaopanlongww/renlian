{
  "nbformat": 4,
  "nbformat_minor": 0,
  "metadata": {
    "colab": {
      "name": "人脸清晰（并且上色）",
      "provenance": [],
      "collapsed_sections": [
        "sYMcFahLkcWS"
      ],
      "include_colab_link": true
    },
    "kernelspec": {
      "name": "python3",
      "display_name": "Python 3"
    },
    "language_info": {
      "name": "python"
    },
    "accelerator": "GPU"
  },
  "cells": [
    {
      "cell_type": "markdown",
      "metadata": {
        "id": "view-in-github",
        "colab_type": "text"
      },
      "source": [
        "<a href=\"https://colab.research.google.com/github/gaopanlongww/renlian/blob/rtc/%E4%BA%BA%E8%84%B8%E6%B8%85%E6%99%B0%EF%BC%88%E5%B9%B6%E4%B8%94%E4%B8%8A%E8%89%B2%EF%BC%89.ipynb\" target=\"_parent\"><img src=\"https://colab.research.google.com/assets/colab-badge.svg\" alt=\"Open In Colab\"/></a>"
      ]
    },
    {
      "cell_type": "markdown",
      "metadata": {
        "id": "sYMcFahLkcWS"
      },
      "source": [
        "# 一键挂载"
      ]
    },
    {
      "cell_type": "code",
      "metadata": {
        "id": "DTBrvud_kZPY",
        "colab": {
          "base_uri": "https://localhost:8080/"
        },
        "outputId": "f6eade61-e696-4006-c024-35d9014a6a63"
      },
      "source": [
        "from google.colab import drive\n",
        "drive.mount('/content/drive', force_remount=True)\n",
        "import os\n",
        "os.chdir(\"/content/drive/My Drive\")\n",
        "!ls\n",
        "%cd GPEN\n",
        "!wget https://github.com/ninja-build/ninja/releases/download/v1.8.2/ninja-linux.zip\n",
        "!sudo unzip ninja-linux.zip -d /usr/local/bin/\n",
        "!sudo update-alternatives --install /usr/bin/ninja ninja /usr/local/bin/ninja 1 --force"
      ],
      "execution_count": null,
      "outputs": [
        {
          "output_type": "stream",
          "text": [
            "Mounted at /content/drive\n",
            "'Colab Notebooks'   GPEN\n",
            "/content/drive/My Drive/GPEN\n"
          ],
          "name": "stdout"
        }
      ]
    },
    {
      "cell_type": "code",
      "metadata": {
        "id": "dgwf1LTM2PXS"
      },
      "source": [
        ""
      ],
      "execution_count": null,
      "outputs": []
    },
    {
      "cell_type": "markdown",
      "metadata": {
        "id": "7TLDy5mi1rid"
      },
      "source": [
        "# Run once only!"
      ]
    },
    {
      "cell_type": "code",
      "metadata": {
        "id": "--fxPES99Cp0",
        "colab": {
          "base_uri": "https://localhost:8080/"
        },
        "outputId": "3afcfeda-a250-476d-c160-c096cb8f3ee7"
      },
      "source": [
        "! git clone https://github.com/bycloudai/GPEN"
      ],
      "execution_count": null,
      "outputs": [
        {
          "output_type": "stream",
          "text": [
            "Cloning into 'GPEN'...\n",
            "remote: Enumerating objects: 157, done.\u001b[K\n",
            "remote: Counting objects: 100% (157/157), done.\u001b[K\n",
            "remote: Compressing objects: 100% (139/139), done.\u001b[K\n",
            "remote: Total 157 (delta 30), reused 126 (delta 11), pack-reused 0\u001b[K\n",
            "Receiving objects: 100% (157/157), 22.05 MiB | 17.21 MiB/s, done.\n",
            "Resolving deltas: 100% (30/30), done.\n"
          ],
          "name": "stdout"
        }
      ]
    },
    {
      "cell_type": "code",
      "metadata": {
        "id": "t8AU9f7U-vKz",
        "colab": {
          "base_uri": "https://localhost:8080/"
        },
        "outputId": "63cbdb41-85b0-4580-97e2-565d57fbe7ea"
      },
      "source": [
        "!wget https://public-vigen-video.oss-cn-shanghai.aliyuncs.com/robin/models/RetinaFace-R50.pth && mv RetinaFace-R50.pth GPEN/weights/\n",
        "!wget https://public-vigen-video.oss-cn-shanghai.aliyuncs.com/robin/models/GPEN-512.pth && mv GPEN-512.pth GPEN/weights/\n",
        "!wget https://public-vigen-video.oss-cn-shanghai.aliyuncs.com/robin/models/GPEN-1024-Color.pth && mv GPEN-1024-Color.pth GPEN/weights/"
      ],
      "execution_count": null,
      "outputs": [
        {
          "output_type": "stream",
          "text": [
            "--2021-08-28 16:20:52--  https://public-vigen-video.oss-cn-shanghai.aliyuncs.com/robin/models/RetinaFace-R50.pth\n",
            "Resolving public-vigen-video.oss-cn-shanghai.aliyuncs.com (public-vigen-video.oss-cn-shanghai.aliyuncs.com)... 47.101.88.25\n",
            "Connecting to public-vigen-video.oss-cn-shanghai.aliyuncs.com (public-vigen-video.oss-cn-shanghai.aliyuncs.com)|47.101.88.25|:443... connected.\n",
            "HTTP request sent, awaiting response... 200 OK\n",
            "Length: 109497761 (104M) [application/octet-stream]\n",
            "Saving to: ‘RetinaFace-R50.pth’\n",
            "\n",
            "RetinaFace-R50.pth  100%[===================>] 104.42M  6.45MB/s    in 30s     \n",
            "\n",
            "2021-08-28 16:21:46 (3.53 MB/s) - ‘RetinaFace-R50.pth’ saved [109497761/109497761]\n",
            "\n",
            "--2021-08-28 16:21:46--  https://public-vigen-video.oss-cn-shanghai.aliyuncs.com/robin/models/GPEN-512.pth\n",
            "Resolving public-vigen-video.oss-cn-shanghai.aliyuncs.com (public-vigen-video.oss-cn-shanghai.aliyuncs.com)... 47.101.88.25\n",
            "Connecting to public-vigen-video.oss-cn-shanghai.aliyuncs.com (public-vigen-video.oss-cn-shanghai.aliyuncs.com)|47.101.88.25|:443... connected.\n",
            "HTTP request sent, awaiting response... 200 OK\n",
            "Length: 284085738 (271M) [application/octet-stream]\n",
            "Saving to: ‘GPEN-512.pth’\n",
            "\n",
            "GPEN-512.pth        100%[===================>] 270.92M  6.90MB/s    in 54s     \n",
            "\n",
            "2021-08-28 16:22:49 (5.01 MB/s) - ‘GPEN-512.pth’ saved [284085738/284085738]\n",
            "\n",
            "--2021-08-28 16:22:49--  https://public-vigen-video.oss-cn-shanghai.aliyuncs.com/robin/models/GPEN-1024-Color.pth\n",
            "Resolving public-vigen-video.oss-cn-shanghai.aliyuncs.com (public-vigen-video.oss-cn-shanghai.aliyuncs.com)... 47.101.88.25\n",
            "Connecting to public-vigen-video.oss-cn-shanghai.aliyuncs.com (public-vigen-video.oss-cn-shanghai.aliyuncs.com)|47.101.88.25|:443... connected.\n",
            "HTTP request sent, awaiting response... 200 OK\n",
            "Length: 284914645 (272M) [application/octet-stream]\n",
            "Saving to: ‘GPEN-1024-Color.pth’\n",
            "\n",
            "GPEN-1024-Color.pth 100%[===================>] 271.71M  6.47MB/s    in 54s     \n",
            "\n",
            "2021-08-28 16:23:47 (5.06 MB/s) - ‘GPEN-1024-Color.pth’ saved [284914645/284914645]\n",
            "\n"
          ],
          "name": "stdout"
        }
      ]
    },
    {
      "cell_type": "code",
      "metadata": {
        "id": "Zfc5z0CyAVKY",
        "colab": {
          "base_uri": "https://localhost:8080/"
        },
        "outputId": "285e3b20-6c62-4757-cfd1-3fd0a37e1c04"
      },
      "source": [
        "!pip install torch==1.7.1 torchvision==0.8.2 torchaudio==0.7.2\n",
        "!pip install pip install opencv-python"
      ],
      "execution_count": null,
      "outputs": [
        {
          "output_type": "stream",
          "text": [
            "Collecting torch==1.7.1\n",
            "  Downloading torch-1.7.1-cp37-cp37m-manylinux1_x86_64.whl (776.8 MB)\n",
            "\u001b[K     |████████████████████████████████| 776.8 MB 17 kB/s \n",
            "\u001b[?25hCollecting torchvision==0.8.2\n",
            "  Downloading torchvision-0.8.2-cp37-cp37m-manylinux1_x86_64.whl (12.8 MB)\n",
            "\u001b[K     |████████████████████████████████| 12.8 MB 23 kB/s \n",
            "\u001b[?25hCollecting torchaudio==0.7.2\n",
            "  Downloading torchaudio-0.7.2-cp37-cp37m-manylinux1_x86_64.whl (7.6 MB)\n",
            "\u001b[K     |████████████████████████████████| 7.6 MB 12.3 MB/s \n",
            "\u001b[?25hRequirement already satisfied: numpy in /usr/local/lib/python3.7/dist-packages (from torch==1.7.1) (1.19.5)\n",
            "Requirement already satisfied: typing-extensions in /usr/local/lib/python3.7/dist-packages (from torch==1.7.1) (3.7.4.3)\n",
            "Requirement already satisfied: pillow>=4.1.1 in /usr/local/lib/python3.7/dist-packages (from torchvision==0.8.2) (7.1.2)\n",
            "Installing collected packages: torch, torchvision, torchaudio\n",
            "  Attempting uninstall: torch\n",
            "    Found existing installation: torch 1.9.0+cu102\n",
            "    Uninstalling torch-1.9.0+cu102:\n",
            "      Successfully uninstalled torch-1.9.0+cu102\n",
            "  Attempting uninstall: torchvision\n",
            "    Found existing installation: torchvision 0.10.0+cu102\n",
            "    Uninstalling torchvision-0.10.0+cu102:\n",
            "      Successfully uninstalled torchvision-0.10.0+cu102\n",
            "\u001b[31mERROR: pip's dependency resolver does not currently take into account all the packages that are installed. This behaviour is the source of the following dependency conflicts.\n",
            "torchtext 0.10.0 requires torch==1.9.0, but you have torch 1.7.1 which is incompatible.\u001b[0m\n",
            "Successfully installed torch-1.7.1 torchaudio-0.7.2 torchvision-0.8.2\n",
            "Requirement already satisfied: pip in /usr/local/lib/python3.7/dist-packages (21.1.3)\n",
            "Collecting install\n",
            "  Downloading install-1.3.4-py3-none-any.whl (3.1 kB)\n",
            "Requirement already satisfied: opencv-python in /usr/local/lib/python3.7/dist-packages (4.1.2.30)\n",
            "Requirement already satisfied: numpy>=1.14.5 in /usr/local/lib/python3.7/dist-packages (from opencv-python) (1.19.5)\n",
            "Installing collected packages: install\n",
            "Successfully installed install-1.3.4\n"
          ],
          "name": "stdout"
        }
      ]
    },
    {
      "cell_type": "code",
      "metadata": {
        "id": "BlSfEFXgnAHu",
        "colab": {
          "base_uri": "https://localhost:8080/"
        },
        "outputId": "574b0d7b-b7bc-452e-a025-ea4d0bab32cf"
      },
      "source": [
        "%cd GPEN"
      ],
      "execution_count": null,
      "outputs": [
        {
          "output_type": "stream",
          "text": [
            "/content/drive/My Drive/GPEN\n"
          ],
          "name": "stdout"
        }
      ]
    },
    {
      "cell_type": "markdown",
      "metadata": {
        "id": "MHS0GTSK1hnf"
      },
      "source": [
        "# Main Code\n",
        "\n"
      ]
    },
    {
      "cell_type": "code",
      "metadata": {
        "id": "NOo9qIPb1Ivn",
        "colab": {
          "base_uri": "https://localhost:8080/"
        },
        "outputId": "ff2717e7-cfbc-46f4-d357-ab1f926ead02"
      },
      "source": [
        "!python face_enhancement.py"
      ],
      "execution_count": null,
      "outputs": [
        {
          "output_type": "stream",
          "text": [
            "/usr/local/lib/python3.7/dist-packages/torch/nn/functional.py:718: UserWarning: Named tensors and all their associated APIs are an experimental feature and subject to change. Please do not use them for anything important until they are released as stable. (Triggered internally at  /pytorch/c10/core/TensorImpl.h:1156.)\n",
            "  return torch.max_pool2d(input, kernel_size, stride, padding, dilation, ceil_mode)\n",
            "0 666.png\n"
          ],
          "name": "stdout"
        }
      ]
    },
    {
      "cell_type": "code",
      "metadata": {
        "colab": {
          "base_uri": "https://localhost:8080/"
        },
        "id": "XeAs7bPg1KpZ",
        "outputId": "cb31fc9e-e057-4025-e13b-45d754665d1f"
      },
      "source": [
        "!python face_colorization.py"
      ],
      "execution_count": null,
      "outputs": [
        {
          "output_type": "stream",
          "text": [
            "0 examples/grays/106000_gray.png\n"
          ],
          "name": "stdout"
        }
      ]
    },
    {
      "cell_type": "markdown",
      "metadata": {
        "id": "JektxA_WulZw"
      },
      "source": [
        "# 删除原有outs/imgs文件夹(同时并重新创建原有文件夹)"
      ]
    },
    {
      "cell_type": "code",
      "metadata": {
        "id": "M8lOV5Hjuqoj"
      },
      "source": [
        "!rm -rf /content/drive/MyDrive/GPEN/examples/outs #outs\n",
        "!mkdir /content/drive/MyDrive/GPEN/examples/outs"
      ],
      "execution_count": null,
      "outputs": []
    },
    {
      "cell_type": "code",
      "metadata": {
        "id": "P0mbwzSQvCBy"
      },
      "source": [
        "!rm -rf /content/drive/MyDrive/GPEN/examples/imgs #imgs\n",
        "!mkdir /content/drive/MyDrive/GPEN/examples/imgs"
      ],
      "execution_count": null,
      "outputs": []
    },
    {
      "cell_type": "markdown",
      "metadata": {
        "id": "Z8Mk6BtBl9N6"
      },
      "source": [
        ""
      ]
    },
    {
      "cell_type": "markdown",
      "metadata": {
        "id": "01OZTdkZpXGq"
      },
      "source": [
        "# 上传解压aligned文件"
      ]
    },
    {
      "cell_type": "code",
      "metadata": {
        "colab": {
          "base_uri": "https://localhost:8080/",
          "height": 35
        },
        "id": "feiiN5-5__ch",
        "outputId": "05c7b3b6-3bc9-4901-e6c2-61adda37c5ed"
      },
      "source": [
        "%pwd"
      ],
      "execution_count": null,
      "outputs": [
        {
          "output_type": "execute_result",
          "data": {
            "application/vnd.google.colaboratory.intrinsic+json": {
              "type": "string"
            },
            "text/plain": [
              "'/content/drive/MyDrive/GPEN'"
            ]
          },
          "metadata": {},
          "execution_count": 48
        }
      ]
    },
    {
      "cell_type": "code",
      "metadata": {
        "id": "i2lU_r3jpZ-B"
      },
      "source": [
        "# !unzip -d /content/drive/MyDrive/GPEN/examples/imgs ali.zip\n",
        "!7z x ali.zip -r -o/content/drive/MyDrive/GPEN/examples/imgs"
      ],
      "execution_count": null,
      "outputs": []
    },
    {
      "cell_type": "code",
      "metadata": {
        "id": "evrXt8bXKEMQ"
      },
      "source": [
        "mv /content/drive/MyDrive/GPEN/examples/imgs/ali/* /content/drive/MyDrive/GPEN/examples/imgs"
      ],
      "execution_count": null,
      "outputs": []
    },
    {
      "cell_type": "markdown",
      "metadata": {
        "id": "WDCm7xJee4c2"
      },
      "source": [
        "\n",
        "\n",
        "# Download multiple images all at once"
      ]
    },
    {
      "cell_type": "markdown",
      "metadata": {
        "id": "6zC7BIgHe-Z2"
      },
      "source": [
        "download on outs"
      ]
    },
    {
      "cell_type": "code",
      "metadata": {
        "id": "4tAqGLPpe0Ez"
      },
      "source": [
        "!zip -r /content/drive/MyDrive/GPEN/examples/outs.zip /content/drive/MyDrive/GPEN/examples/outs\n"
      ],
      "execution_count": null,
      "outputs": []
    },
    {
      "cell_type": "markdown",
      "metadata": {
        "id": "0W7jMJlqfD2R"
      },
      "source": [
        "download on couts"
      ]
    },
    {
      "cell_type": "code",
      "metadata": {
        "id": "B3-JMXM3e0wT"
      },
      "source": [
        "!zip -r /content/drive/MyDrive/GPEN/examples/couts.zip /content/drive/MyDrive/GPEN/examples/couts"
      ],
      "execution_count": null,
      "outputs": []
    }
  ]
}